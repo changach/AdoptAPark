{
 "cells": [
  {
   "cell_type": "code",
   "execution_count": 1,
   "id": "c2ed325e",
   "metadata": {},
   "outputs": [],
   "source": [
    "#import pandas and matplotlib\n",
    "import pandas as pd\n",
    "from matplotlib import pyplot as plt"
   ]
  },
  {
   "cell_type": "code",
   "execution_count": null,
   "id": "f3002acd",
   "metadata": {},
   "outputs": [],
   "source": [
    "#Create dataframes for all the volunteers attending the cleanup activity and the hours they work\n",
    "Anita_M=pd.DataFrame({'Day':['Monday','Tuesday','Wednesday','Thursday','Friday','Saturday'],\n",
    "                      'Hours_worked':[5,2,7,4,2,0]    \n",
    "                        })\n",
    "Winston=pd.DataFrame({'Day':['Monday','Tuesday','Wednesday','Thursday','Friday','Saturday'],\n",
    "                      'Hours_worked':[0,2,3,6,9,1]    \n",
    "                        })\n",
    "Bree=pd.DataFrame({'Day':['Monday','Tuesday','Wednesday','Thursday','Friday','Saturday'],\n",
    "                      'Hours_worked':[5,6,8,2,0,1]    \n",
    "                        })\n",
    "Reagan=pd.DataFrame({'Day':['Monday','Tuesday','Wednesday','Thursday','Friday','Saturday'],\n",
    "                      'Hours_worked':[3,1,7,9,0,2]    \n",
    "                        })\n",
    "Mac=pd.DataFrame({'Day':['Monday','Tuesday','Wednesday','Thursday','Friday','Saturday'],\n",
    "                      'Hours_worked':[2,4,6,8,5,0]    \n",
    "                        })\n",
    "Kimutai=pd.DataFrame({'Day':['Monday','Tuesday','Wednesday','Thursday','Friday','Saturday'],\n",
    "                      'Hours_worked':[1,2,3,4,5,6]    \n",
    "                        })\n",
    "Haniffer=pd.DataFrame({'Day':['Monday','Tuesday','Wednesday','Thursday','Friday','Saturday'],\n",
    "                      'Hours_worked':[3,4,5,6,1,2]    \n",
    "                        })\n",
    "Bugz=pd.DataFrame({'Day':['Monday','Tuesday','Wednesday','Thursday','Friday','Saturday'],\n",
    "                      'Hours_worked':[6,5,4,3,2,1]    \n",
    "                        })\n",
    "Mary=pd.DataFrame({'Day':['Monday','Tuesday','Wednesday','Thursday','Friday','Saturday'],\n",
    "                      'Hours_worked':[1,2,3,0,5,6]    \n",
    "                        })\n",
    "Anita_M=pd.DataFrame({'Day':['Monday','Tuesday','Wednesday','Thursday','Friday','Saturday'],\n",
    "                      'Hours_worked':[5,2,7,4,2,1,0,0],    \n",
    "                        })\n"
   ]
  }
 ],
 "metadata": {
  "kernelspec": {
   "display_name": "Python 3",
   "language": "python",
   "name": "python3"
  },
  "language_info": {
   "codemirror_mode": {
    "name": "ipython",
    "version": 3
   },
   "file_extension": ".py",
   "mimetype": "text/x-python",
   "name": "python",
   "nbconvert_exporter": "python",
   "pygments_lexer": "ipython3",
   "version": "3.8.10"
  }
 },
 "nbformat": 4,
 "nbformat_minor": 5
}
